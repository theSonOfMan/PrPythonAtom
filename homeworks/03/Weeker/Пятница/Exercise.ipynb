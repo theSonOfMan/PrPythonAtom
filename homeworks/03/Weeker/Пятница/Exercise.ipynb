{
 "cells": [
  {
   "cell_type": "markdown",
   "metadata": {},
   "source": [
    "# Occupation"
   ]
  },
  {
   "cell_type": "markdown",
   "metadata": {},
   "source": [
    "### Introduction:\n",
    "\n",
    "\n",
    "### Step 1. Import the necessary libraries"
   ]
  },
  {
   "cell_type": "code",
   "execution_count": null,
   "metadata": {},
   "outputs": [],
   "source": [
    "import pandas as pd"
   ]
  },
  {
   "cell_type": "markdown",
   "metadata": {},
   "source": [
    "### Step 2. Import the dataset from this [address](https://raw.githubusercontent.com/justmarkham/DAT8/master/data/u.user). "
   ]
  },
  {
   "cell_type": "markdown",
   "metadata": {},
   "source": [
    "### Step 3. Assign it to a variable called users."
   ]
  },
  {
   "cell_type": "code",
   "execution_count": null,
   "metadata": {},
   "outputs": [],
   "source": [
    "df = pd.read_csv('https://raw.githubusercontent.com/justmarkham/DAT8/master/data/u.user','|')\n",
    "df"
   ]
  },
  {
   "cell_type": "markdown",
   "metadata": {},
   "source": [
    "### Step 4. Discover what is the mean age per occupation"
   ]
  },
  {
   "cell_type": "code",
   "execution_count": null,
   "metadata": {},
   "outputs": [],
   "source": [
    "occupation = set(df.occupation)\n",
    "data = []\n",
    "for occ in occupation:\n",
    "    data.append({'occupation': occ, 'mean age': (df.loc[(df['occupation'] == occ)])['age'].mean()})\n",
    "df_step_4 = pd.DataFrame(data)\n",
    "df_step_4"
   ]
  },
  {
   "cell_type": "markdown",
   "metadata": {},
   "source": [
    "### Step 5. Discover the Male ratio per occupation and sort it from the most to the least"
   ]
  },
  {
   "cell_type": "code",
   "execution_count": null,
   "metadata": {},
   "outputs": [],
   "source": [
    "occupation = set(df.occupation)\n",
    "data = []\n",
    "for occ in occupation:\n",
    "    ratio = (df.loc[(df['occupation'] == occ)&(df['gender'] == 'M')])['user_id'].count()/(df.loc[(df['occupation'] == occ)])['user_id'].count()\n",
    "    data.append({'occupation': occ, 'ratio': ratio})\n",
    "df_step_5 = pd.DataFrame(data).sort_values('ratio', ascending = False).reset_index(drop=True)\n",
    "df_step_5"
   ]
  },
  {
   "cell_type": "markdown",
   "metadata": {},
   "source": [
    "### Step 6. For each occupation, calculate the minimum and maximum ages"
   ]
  },
  {
   "cell_type": "code",
   "execution_count": null,
   "metadata": {},
   "outputs": [],
   "source": [
    "occupation = set(df.occupation)\n",
    "data = []\n",
    "for occ in occupation:\n",
    "    data.append({'occupation': occ, 'min age': (df.loc[(df['occupation'] == occ)])['age'].min(), 'max age': (df.loc[(df['occupation'] == occ)])['age'].max()})\n",
    "df_step6 = pd.DataFrame(data)\n",
    "df_step6"
   ]
  },
  {
   "cell_type": "markdown",
   "metadata": {},
   "source": [
    "### Step 7. For each combination of occupation and gender, calculate the mean age"
   ]
  },
  {
   "cell_type": "code",
   "execution_count": null,
   "metadata": {},
   "outputs": [],
   "source": [
    "occupation = set(df.occupation)\n",
    "gender = set(df.gender)\n",
    "data = []\n",
    "for occ in occupation:\n",
    "    for gen in gender:\n",
    "        data.append({'gender' : gen, 'occupation': occ, 'middle age': (df.loc[(df['occupation'] == occ) & (df['gender'] == gen)])['age'].mean()})\n",
    "df_step_7 = pd.DataFrame(data)\n",
    "df_step_7"
   ]
  },
  {
   "cell_type": "markdown",
   "metadata": {},
   "source": [
    "### Step 8.  For each occupation present the percentage of women and men"
   ]
  },
  {
   "cell_type": "code",
   "execution_count": null,
   "metadata": {},
   "outputs": [],
   "source": [
    "occupation = set(df.occupation)\n",
    "data = []\n",
    "for occ in occupation:\n",
    "    m_ratio = (df.loc[(df['occupation'] == occ)&(df['gender'] == 'M')])['user_id'].count()/(df.loc[(df['occupation'] == occ)])['user_id'].count()\n",
    "    f_ratio = 1 - m_ratio\n",
    "    data.append({'occupation': occ, 'm_ratio': m_ratio, 'f_ratio': f_ratio})\n",
    "    \n",
    "df_step_8 = pd.DataFrame(data)\n",
    "df_step_8"
   ]
  },
  {
   "cell_type": "code",
   "execution_count": null,
   "metadata": {},
   "outputs": [],
   "source": []
  }
 ],
 "metadata": {
  "kernelspec": {
   "display_name": "Python 3",
   "language": "python",
   "name": "python3"
  },
  "language_info": {
   "codemirror_mode": {
    "name": "ipython",
    "version": 3
   },
   "file_extension": ".py",
   "mimetype": "text/x-python",
   "name": "python",
   "nbconvert_exporter": "python",
   "pygments_lexer": "ipython3",
   "version": "3.7.0"
  }
 },
 "nbformat": 4,
 "nbformat_minor": 1
}
