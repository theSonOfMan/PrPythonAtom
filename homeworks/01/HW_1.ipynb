{
 "cells": [
  {
   "cell_type": "code",
   "execution_count": 65,
   "metadata": {},
   "outputs": [],
   "source": [
    "class HashMap:\n",
    "    \n",
    "    class Entry:\n",
    "        def __init__(self, key, value):\n",
    "            self.key = key\n",
    "            self.value = value\n",
    "            \n",
    "        def get_key(self):\n",
    "            return self.key\n",
    "            \n",
    "        def get_value(self):\n",
    "            return self.value\n",
    "            \n",
    "        def __eq__(self, other):\n",
    "            return self.key == other.get_key()\n",
    "   \n",
    "    def __init__(self, bucket_num = 64):\n",
    "        self.data = []\n",
    "        for _ in range(0,64):\n",
    "            self.data.append(self.Entry(None,None))\n",
    "        self.len = 0\n",
    "        self.size = bucket_num\n",
    "\n",
    "    def get(self, key, default_value=None):\n",
    "        for e in self.data:\n",
    "            if e.key == key:\n",
    "                return e.value\n",
    "        return default_value\n",
    "        #TODO метод get, возвращающий значение, если оно присутствует, иначе default_value\n",
    "\n",
    "    def put(self, key, value):\n",
    "        index = hash(key)%self.size\n",
    "        if self.data[index] == self.Entry(None, None):\n",
    "            self.data[index].key = key\n",
    "            self.data[index].value = value\n",
    "            self.len += 1\n",
    "            return\n",
    "        if self.data[index].key == key:\n",
    "            self.data[index].value = value\n",
    "            return\n",
    "#         while not self.data[index] == Entry(None, None):\n",
    "#             index += 1\n",
    "        \n",
    "        \n",
    "        #TODO метод put, кладет значение по ключу, в случае, если ключ уже присутствует он его заменяет\n",
    "\n",
    "    def __len__(self):\n",
    "        return self.len\n",
    "\n",
    "    def _get_hash(self, key):\n",
    "        return hash(key)\n",
    "        #TODO Вернуть хеш от ключа, по которому он кладется в бакет\n",
    "\n",
    "    def _get_index(self, hash_value):\n",
    "        return hash_value%self.size\n",
    "        \n",
    "    def values(self):\n",
    "        for e in self.data:\n",
    "            if not e == self.Entry(None, None):\n",
    "                yield e.value\n",
    "        \n",
    "    def keys(self):\n",
    "        for e in self.data:\n",
    "            if not e == self.Entry(None, None):\n",
    "                yield e.key\n",
    "        \n",
    "    def items(self):\n",
    "        for e in self.data:\n",
    "            if not e == self.Entry(None, None):\n",
    "                yield (e.key, e.value)\n",
    "        \n",
    "    def __str__(self):\n",
    "        pass\n",
    "        #TODO Метод, вызываемый при вызове print, пофантазируйте, что можно написать"
   ]
  },
  {
   "cell_type": "code",
   "execution_count": 43,
   "metadata": {},
   "outputs": [
    {
     "name": "stdout",
     "output_type": "stream",
     "text": [
      "0\n",
      "(2, 'value 2')\n",
      "(4, 'value 1')\n",
      "(10, 'value 3')\n"
     ]
    }
   ],
   "source": [
    "hm = HashMap(bucket_num=100)\n",
    "print(len(hm))\n",
    "\n",
    "hm.put(key = 4, value = 'value 1')\n",
    "hm.put(key = 2, value = 'value 2')\n",
    "hm.put(key = 10, value = 'value 3')\n",
    "# print(len(hm))\n",
    "# hm.get(key = 4)\n",
    "for v in hm.items():\n",
    "    print(v)\n",
    "# "
   ]
  },
  {
   "cell_type": "code",
   "execution_count": 1,
   "metadata": {},
   "outputs": [
    {
     "ename": "IndentationError",
     "evalue": "expected an indented block (<ipython-input-1-ee2deaa0b54d>, line 6)",
     "output_type": "error",
     "traceback": [
      "\u001b[0;36m  File \u001b[0;32m\"<ipython-input-1-ee2deaa0b54d>\"\u001b[0;36m, line \u001b[0;32m6\u001b[0m\n\u001b[0;31m    def put(self, key, value):\u001b[0m\n\u001b[0m      ^\u001b[0m\n\u001b[0;31mIndentationError\u001b[0m\u001b[0;31m:\u001b[0m expected an indented block\n"
     ]
    }
   ],
   "source": [
    "class HashSet(HashMap):\n",
    "   \n",
    "    def get(self, key, default_value=None):\n",
    "        #TODO достаточно переопределить данный метод\n",
    "\n",
    "    def put(self, key, value):\n",
    "        #TODO метод put, нужно переопределить данный метод\n",
    "\n",
    "    def __len__(self):\n",
    "        #TODO Возвращает количество Entry в массиве\n",
    "\n",
    "    def values(self):\n",
    "        #TODO Задание со звездочкой!\n",
    "        #Если делали, то нужно бы переопределить\n",
    "        #Должен возвращать генератор или итератор значений (на самом деле итератор, но не принципиально, через генераторы проще ИМХО)"
   ]
  }
 ],
 "metadata": {
  "kernelspec": {
   "display_name": "Python 3",
   "language": "python",
   "name": "python3"
  },
  "language_info": {
   "codemirror_mode": {
    "name": "ipython",
    "version": 3
   },
   "file_extension": ".py",
   "mimetype": "text/x-python",
   "name": "python",
   "nbconvert_exporter": "python",
   "pygments_lexer": "ipython3",
   "version": "3.7.0"
  }
 },
 "nbformat": 4,
 "nbformat_minor": 2
}
